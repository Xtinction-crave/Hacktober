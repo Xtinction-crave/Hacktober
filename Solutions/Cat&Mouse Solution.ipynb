import random

# Creating a 6 by 6 grid
grid = [[[] for _ in range(6)] for _ in range(6)]

# Define head and tail for the cat
head = 'H'
tail = 'T'

# Append head to the cell at position [0, 1]
grid[0][1].append(head)

# Append tail to position at [0,0]
grid[0][0].append(tail)


# To print the grid in a readable format (with empty cells represented by '__')
for row in grid:
    row_str = '|| ' + ' | '.join(cell[0] if cell else '__' for cell in row) + ' ||'
    print(row_str)
