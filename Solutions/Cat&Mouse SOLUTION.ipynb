| '.join(cell[0] if cell else '__' for cell in row) + ' ||'
    print(row_str)
